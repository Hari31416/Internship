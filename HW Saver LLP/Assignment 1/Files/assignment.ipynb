{
 "cells": [
  {
   "cell_type": "markdown",
   "metadata": {},
   "source": [
    "<table class=\"tfo-notebook-buttons\" align=\"left\">\n",
    "<td style=\"border: none;\">\n",
    "<a target=\"blank\" href=\"https://colab.research.google.com/github/Hari31416/Internship/blob/main/HW Saver LLP/Assignment 1/Files/assignment.ipynb?hl=en\"><img src=\"https://colab.research.google.com/img/colab_favicon_256px.png\" width=\"28\" height=\"28\"/>Run on Google Colab</a></td>\n",
    "<td style=\"border: none;\">\n",
    "<a target=\"blank\" href=\"https://github.com/Hari31416/Internship/blob/main/HW Saver LLP/Assignment 1/Files/assignment.ipynb\"><img src=\"https://cdn.icon-icons.com/icons2/2368/PNG/512/github_logo_icon_143772.png\" width=\"28\" height=\"28\"/>View on Github</a></td>\n",
    "<td style=\"border: none;\">\n",
    "</table>\n"
   ]
  },
  {
   "cell_type": "markdown",
   "metadata": {},
   "source": [
    "<div>\n",
    "<h1 id=\"Contents\">Contents<a href=\"#Contents\"></a></h1>\n",
    "        <ol>\n",
    "        <li><a class=\"\" style=\"color:green\" href=\"#Imports\">Imports</a></li>\n",
    "<li><a class=\"\" style=\"color:green\" href=\"#Reading-Image-and-Preprocessing\">Reading Image and Preprocessing</a></li>\n",
    "<ol><li><a class=\"\" style=\"color:green\" href=\"#Reading-Image\">Reading Image</a></li>\n",
    "<li><a class=\"\" style=\"color:green\" href=\"#Preprocessing\">Preprocessing</a></li>\n",
    "</ol><li><a class=\"\" style=\"color:green\" href=\"#Detecting-the-Checkbox\">Detecting the Checkbox</a></li>\n",
    "<ol><li><a class=\"\" style=\"color:green\" href=\"#The-y-coordinates-of-the-top-and-bottom-side-of-the-checkbox\">The y coordinates of the top and bottom side of the checkbox</a></li>\n",
    "<li><a class=\"\" style=\"color:green\" href=\"#The-x-coordinates-of-the-left-and-right-side-of-the-checkbox\">The x coordinates of the left and right side of the checkbox</a></li>\n",
    "</ol><li><a class=\"\" style=\"color:green\" href=\"#Determining-Whether-the-Checkbox-is-Checked-or-Not-(The-Bonus-Part)\">Determining Whether the Checkbox is Checked or Not (The Bonus Part)</a></li>\n",
    "<li><a class=\"\" style=\"color:green\" href=\"#Putting-it-all-together\">Putting it all together</a></li>\n",
    "<li><a class=\"\" style=\"color:green\" href=\"#Detecting-the-Checkboxes\">Detecting the Checkboxes</a></li>\n",
    "</ol>\n",
    "</div>"
   ]
  },
  {
   "cell_type": "markdown",
   "metadata": {},
   "source": [
    "To get the final cropped images in zip, click on the link below:\n",
    "\n",
    "<a style=\"color:green\" href=\"https://github.com/Hari31416/Internship/raw/495dffe9ec31a7c02f742a3bb1e4e042ca4c0f4b/HW%20Saver%20LLP/Assignment%201/Files/Raw_Dataset/cropped/clean_images.zip\">Download Images</a>\n",
    "\n",
    "To get the codes of this notebook in .py file, click on the link below:\n",
    "\n",
    "<a style=\"color:green\" href=\"https://github.com/Hari31416/Internship/raw/495dffe9ec31a7c02f742a3bb1e4e042ca4c0f4b/HW%20Saver%20LLP/Assignment%201/Files/assignment.py\">Download .py</a>"
   ]
  },
  {
   "cell_type": "markdown",
   "metadata": {},
   "source": [
    "# Imports"
   ]
  },
  {
   "cell_type": "code",
   "execution_count": 1,
   "metadata": {},
   "outputs": [],
   "source": [
    "import numpy as np\n",
    "import matplotlib.pyplot as plt\n",
    "import cv2 as cv\n",
    "import os"
   ]
  },
  {
   "cell_type": "markdown",
   "metadata": {},
   "source": [
    "# Reading Image and Preprocessing"
   ]
  },
  {
   "cell_type": "markdown",
   "metadata": {},
   "source": [
    "Before we are able to detect the checkbox, we need to do some preprocessing to the image. Things we need to do first are:\n",
    "1. Read the image and convert it to `numpy` array.\n",
    "2. Convert the image to grayscale.\n",
    "3. Convert the image to binary.\n",
    "4. Crop the image (if necessary)."
   ]
  },
  {
   "cell_type": "markdown",
   "metadata": {},
   "source": [
    "The first three steps can easily be done using the `opencv` library. We can use `opencv`'s `imread` function to read the image, and then convert it to grayscale using `cvtColor`. Using `threshold` we can convert the image to binary image. The cropping of image is trivial and can be realized using indexing."
   ]
  },
  {
   "cell_type": "markdown",
   "metadata": {},
   "source": [
    "## Reading Image"
   ]
  },
  {
   "cell_type": "code",
   "execution_count": 2,
   "metadata": {},
   "outputs": [],
   "source": [
    "#Reading Image\n",
    "image = cv.imread(\"Raw_Dataset\\img-1.jpg\")"
   ]
  },
  {
   "cell_type": "markdown",
   "metadata": {},
   "source": [
    "## Preprocessing"
   ]
  },
  {
   "cell_type": "code",
   "execution_count": 3,
   "metadata": {},
   "outputs": [],
   "source": [
    "THRESHOLD = 140 #Threshold value for the image\n",
    "#convert image into greyscale mode\n",
    "gray_image = cv.cvtColor(image, cv.COLOR_BGR2GRAY)\n",
    "\n",
    "#find threshold of the image\n",
    "#thresholding the image, 1 is the max value\n",
    "_, binary_image = cv.threshold(gray_image, 140, 1, cv.THRESH_BINARY) "
   ]
  },
  {
   "cell_type": "markdown",
   "metadata": {},
   "source": [
    "Since we need to do these steps for all the images, we'll define a function to do this. The function also does cropping if required."
   ]
  },
  {
   "cell_type": "code",
   "execution_count": 4,
   "metadata": {},
   "outputs": [],
   "source": [
    "def get_image_ready(img_path, threshold=120, crop=(5, 5)):\n",
    "    \"\"\"\n",
    "    Does preprocessing on the image\n",
    "    \n",
    "    Parameters\n",
    "    ----------\n",
    "    img_path : str\n",
    "        Path to the image\n",
    "    threshold : int, optional\n",
    "        Threshold value for the image. The default is 120.\n",
    "    crop : tuple, optional\n",
    "        x and y crop pixels for the image. The default is (5,5).\n",
    "\n",
    "    Returns\n",
    "    -------\n",
    "    numpy.ndarray\n",
    "        Image after preprocessing\n",
    "    \"\"\"\n",
    "    img = cv.imread(img_path)\n",
    "    if crop:\n",
    "        img = img[crop[1]:img.shape[0]-crop[1], crop[0]:img.shape[1]-crop[0]]\n",
    "    gray_image = cv.cvtColor(img, cv.COLOR_BGR2GRAY)\n",
    "    _, binary_image = cv.threshold(gray_image, threshold, 1, cv.THRESH_BINARY)\n",
    "    return binary_image"
   ]
  },
  {
   "cell_type": "code",
   "execution_count": 5,
   "metadata": {},
   "outputs": [
    {
     "data": {
      "image/png": "[encoded data removed]",
      "text/plain": [
       "<Figure size 432x288 with 1 Axes>"
      ]
     },
     "metadata": {},
     "output_type": "display_data"
    }
   ],
   "source": [
    "image = get_image_ready(\"Raw_Dataset\\img-1.jpg\")\n",
    "plt.imshow(image, cmap='gray');"
   ]
  },
  {
   "cell_type": "markdown",
   "metadata": {},
   "source": [
    "# Detecting the Checkbox"
   ]
  },
  {
   "cell_type": "markdown",
   "metadata": {},
   "source": [
    "One way to detect the checkbox is using the `openCV`'s `findContours` function. This function takes in an image and returns the contours of the image. The contours are the outlines of the objects in the image. I tried the method but it turns out that the function is not working very well for almost all of the images. The reason is that the contours are not very accurate as they are not very clear and we have a lot of noise. Due to this, I implemented a method to detect the checkbox from scratch."
   ]
  },
  {
   "cell_type": "markdown",
   "metadata": {},
   "source": [
    "The idea behind the method I implemented is simple. The image returned by the function `get_image_ready` is a binary image. The image contains a bunch of zeros and ones. Ones for a white pixels and zeros for black pixels. The basic idea is do get the coordinate of the first black pixel and then the last black pixel. The difference between the two pixels is the width of the checkbox. While the x coordinate of the first black pixel is the x coordinate of the top left corner of the checkbox and the x coordinate of the last black pixel is the x coordinate of the top right corner of the checkbox. Looping through the column gives the same values but for the y coordinates."
   ]
  },
  {
   "cell_type": "markdown",
   "metadata": {},
   "source": [
    "There are multiple way to implement this. The way I did this is:\n",
    "1. I choose the middle row and column of the image to loop through.\n",
    "2. On the middle column, used `numpy`'s `nonzero` function to get the indices of the pixels that are black.\n",
    "3. Subtracted every element in the array from the next and the previous elements. This gave me the y coordinates of the top and bottom side of the checkbox.\n",
    "4. Used the same process for the middle row and got the x coordinates of the left and right side of the checkbox.\n",
    "5. Using these four coordinates, I could draw a bounding box for the checkbox."
   ]
  },
  {
   "cell_type": "markdown",
   "metadata": {},
   "source": [
    "## The y coordinates of the top and bottom side of the checkbox"
   ]
  },
  {
   "cell_type": "code",
   "execution_count": 6,
   "metadata": {},
   "outputs": [],
   "source": [
    "def y_coordinates(img, a):\n",
    "    \"\"\"\n",
    "    Gets the y coordinates of the top and bottom sides of the checkbox\n",
    "\n",
    "    Parameters\n",
    "    ----------\n",
    "    img : numpy.ndarray\n",
    "        Image to be processed\n",
    "    a : int\n",
    "        index of the column to be looped over\n",
    "    \n",
    "    Returns\n",
    "    -------\n",
    "    tuple ((x,yt), (x,yb))\n",
    "        coordinates of the top and bottom of the checkbox\n",
    "    \"\"\"\n",
    "    col = np.nonzero(img[:, a])[0]\n",
    "    colshifted = np.concatenate([col[1:], np.array([0])])\n",
    "    c1 = col[(-col+colshifted>1)][0]\n",
    "    colshifted = np.concatenate([ np.array([0]), col[:-1]])\n",
    "    c2 = col[(col-colshifted>1)][-1]\n",
    "    return (a, c1), (a, c2)"
   ]
  },
  {
   "cell_type": "code",
   "execution_count": 7,
   "metadata": {},
   "outputs": [
    {
     "data": {
      "text/plain": [
       "((60, 29), (60, 102))"
      ]
     },
     "execution_count": 7,
     "metadata": {},
     "output_type": "execute_result"
    }
   ],
   "source": [
    "y_coordinates(img=image, a=60)"
   ]
  },
  {
   "cell_type": "markdown",
   "metadata": {},
   "source": [
    "30 is the height of the top side of the checkbox and 100 for the bottom side. I've hardcoded the value of `a` here. Later I'll fix it."
   ]
  },
  {
   "cell_type": "markdown",
   "metadata": {},
   "source": [
    "## The x coordinates of the left and right side of the checkbox"
   ]
  },
  {
   "cell_type": "code",
   "execution_count": 8,
   "metadata": {},
   "outputs": [],
   "source": [
    "def x_coordinates(img, a):\n",
    "    \"\"\"\n",
    "    Gets the x coordinates of the left and right sides of the checkbox\n",
    "\n",
    "    Parameters\n",
    "    ----------\n",
    "    img : numpy.ndarray\n",
    "        Image to be processed\n",
    "    a : int\n",
    "        index of the row to be looped over\n",
    "    \n",
    "    Returns\n",
    "    -------\n",
    "    tuple ((xl,y), (xr,y))\n",
    "        coordinates of the left and right of the checkbox\n",
    "    \"\"\"\n",
    "    row1 = np.nonzero(img[a, :])[0]\n",
    "    row1shifted = np.concatenate([row1[1:], np.array([0])])\n",
    "    c1 = row1[(-row1+row1shifted>1)][0]\n",
    "    row1shifted = np.concatenate([ np.array([0]), row1[:-1]])\n",
    "    c2 = row1[(row1-row1shifted>1)][-1]\n",
    "    return (c1,a), (c2,a)"
   ]
  },
  {
   "cell_type": "code",
   "execution_count": 9,
   "metadata": {},
   "outputs": [
    {
     "data": {
      "text/plain": [
       "((14, 60), (87, 60))"
      ]
     },
     "execution_count": 9,
     "metadata": {},
     "output_type": "execute_result"
    }
   ],
   "source": [
    "x_coordinates(img=image, a=60)"
   ]
  },
  {
   "cell_type": "markdown",
   "metadata": {},
   "source": [
    "# Determining Whether the Checkbox is Checked or Not (The Bonus Part)"
   ]
  },
  {
   "cell_type": "markdown",
   "metadata": {},
   "source": [
    "Once we have the bounding box for the checkbox, determining whether the checkbox is checked or not is quite straightforward. I am assuming that the box is check if there are some black pixels inside the box (that is, there is any writing inside the box). I have implemented this by following the steps:\n",
    "1. Crooped about 3/4th of the region inside the checkbox.\n",
    "2. Determined the number of pixels which are white in the cropped image.\n",
    "3. If the number of white pixels is less than a certain threshold, the checkbox is checked. If not, it is unchecked. I used this threshold as 35%."
   ]
  },
  {
   "cell_type": "code",
   "execution_count": 10,
   "metadata": {},
   "outputs": [],
   "source": [
    "def checked(img, percent=35):\n",
    "    \"\"\"\n",
    "    Returns `True` if the checkbox is checked, `False` otherwise\n",
    "\n",
    "    Parameters\n",
    "    ----------\n",
    "    img : numpy.ndarray\n",
    "        Image to be processed\n",
    "    percent : int, optional\n",
    "        Percentage of the image to be checked. The default is 20.\n",
    "\n",
    "    Returns\n",
    "    -------\n",
    "    bool\n",
    "        `True` if the checkbox is checked, `False` otherwise\n",
    "    \"\"\"\n",
    "    h,w = img.shape\n",
    "    #The area of cropped image will be 1/4 of the original image\n",
    "    all_pixels = 3*h*w/4\n",
    "    h_check = h//8\n",
    "    w_check = w//8\n",
    "    #cropping the center part of image\n",
    "    white_pixels = (img[h_check:h-h_check, w_check:w-w_check]).sum() \n",
    "    white_percent = white_pixels*100/all_pixels\n",
    "    black_percent = 100 - white_percent\n",
    "    return black_percent > percent\n"
   ]
  },
  {
   "cell_type": "markdown",
   "metadata": {},
   "source": [
    "# Putting it all together"
   ]
  },
  {
   "cell_type": "markdown",
   "metadata": {},
   "source": [
    "Let's put all the steps together to get a final function that detects the checkbox."
   ]
  },
  {
   "cell_type": "code",
   "execution_count": 11,
   "metadata": {},
   "outputs": [],
   "source": [
    "def putting_together(\n",
    "    img_path,\n",
    "    threshold=140,\n",
    "    point=None,\n",
    "    crop=(5, 5),\n",
    "    percent=35,\n",
    "    plot=True,\n",
    "    save=False,\n",
    "    pad=0,\n",
    "):\n",
    "    \"\"\"\n",
    "    Detects the checkbox as well as whether it is checked or not\n",
    "\n",
    "    Parameters\n",
    "    ----------\n",
    "    img_path : str\n",
    "        Path to the image\n",
    "    threshold : int, optional\n",
    "        Threshold value for the image. The default is 140.\n",
    "    point : tuple, optional\n",
    "        x and y coordinates to loop over in `x_coordinates` and `y_coordinates` function. The default is None.\n",
    "    crop : tuple, optional\n",
    "        x and y crop pixels for the image. The default is (5,5).\n",
    "    percent : int, optional\n",
    "        Percentage used in the `checked` function. The default is 20.\n",
    "    plot : bool, optional\n",
    "        Whether to plot the image. The default is True.\n",
    "    save : bool, optional\n",
    "        Whether to save the cropped image. The default is False.\n",
    "    pad : int, optional\n",
    "        Padding to be added to the final cropped. The default is 0.\n",
    "    \"\"\"\n",
    "    # Getting the image ready\n",
    "    img_original = cv.imread(img_path)\n",
    "    img = get_image_ready(img_path, threshold, crop=crop)\n",
    "\n",
    "    # Getting the coordinates of the checkbox if not given\n",
    "    if point is None:\n",
    "        h, w = img.shape\n",
    "        point = (w // 2, h // 2)\n",
    "    (x, yt), (x, yb) = y_coordinates(img, point[1])\n",
    "    (xl, y), (xr, y) = x_coordinates(img, point[0])\n",
    "\n",
    "    # Determining whether the checkbox is checked or not\n",
    "    checked_or_not = checked(\n",
    "        img[crop[1] + yt : crop[1] + yb, crop[0] + xl : crop[0] + xr], percent\n",
    "    )\n",
    "\n",
    "    # Plotting the image\n",
    "    if plot:\n",
    "        fig, axes = plt.subplots(1, 2)\n",
    "        # Adding a supertitle\n",
    "        fig.suptitle(f\"{img_path}\", fontsize=16)\n",
    "\n",
    "        # Plotting the image with the top-left and bottom-right coordinates\n",
    "        axes[0].imshow(img_original)\n",
    "        axes[0].scatter(crop[0] + xl, crop[1] + yt, c=\"r\", s=30)\n",
    "        axes[0].scatter(crop[0] + xr, crop[1] + yb, c=\"r\", s=30)\n",
    "        axes[0].scatter(crop[0] + xl, crop[1] + yt, c=\"r\", s=30)\n",
    "        axes[0].scatter(crop[0] + xr, crop[1] + yb, c=\"r\", s=30)\n",
    "        axes[0].set_title(\"Original Image\")\n",
    "\n",
    "        # Plotting the cropped image\n",
    "        img_f = img_original[\n",
    "            crop[1] + yt - pad : crop[1] + yb + pad,\n",
    "            crop[0] + xl - pad : crop[0] + xr + pad,\n",
    "            :,\n",
    "        ]\n",
    "        axes[1].imshow(img_f)\n",
    "        axes[1].set_title(\"Cropped Image\")\n",
    "        # Adding whether the checkbox is checked or not\n",
    "        color = \"g\" if checked_or_not else \"b\"\n",
    "        axes[1].annotate(\n",
    "            f\"Checked: {checked_or_not}\",\n",
    "            (0, 0),\n",
    "            (10, -20),\n",
    "            xycoords=\"axes fraction\",\n",
    "            textcoords=\"offset points\",\n",
    "            va=\"top\",\n",
    "            fontsize=14,\n",
    "            color=color,\n",
    "        )\n",
    "\n",
    "    if save:\n",
    "        # Saving the image\n",
    "        img_f = img_original[\n",
    "            crop[1] + yt - pad : crop[1] + yb + pad,\n",
    "            crop[0] + xl - pad : crop[0] + xr + pad,\n",
    "            :,\n",
    "        ]\n",
    "        img_name = img_path.split(os.path.sep)[-1]\n",
    "        img_dir = f\"{os.path.sep}\".join(img_path.split(os.path.sep)[:-1])\n",
    "        img_dir = os.path.join(img_dir, \"cropped\", \"clean_\"+img_name)\n",
    "        plt.imsave(img_dir, img_f)\n",
    "    return img_f, checked_or_not\n"
   ]
  },
  {
   "cell_type": "markdown",
   "metadata": {},
   "source": [
    "# Detecting the Checkboxes"
   ]
  },
  {
   "cell_type": "code",
   "execution_count": 12,
   "metadata": {},
   "outputs": [],
   "source": [
    "images_dir = \"Raw_Dataset\"\n",
    "images = os.listdir(images_dir)\n",
    "images = [os.path.join(images_dir, i) for i in images if i.endswith(\".jpg\")]\n",
    "checked_dict = {}\n",
    "for img in images:\n",
    "    img_f, checked_ = putting_together(img, plot=False, save=True)\n",
    "    checked_dict[img] = checked_"
   ]
  },
  {
   "cell_type": "code",
   "execution_count": 13,
   "metadata": {},
   "outputs": [
    {
     "data": {
      "text/plain": [
       "{'Raw_Dataset\\\\img-1.jpg': True,\n",
       " 'Raw_Dataset\\\\img-2.jpg': True,\n",
       " 'Raw_Dataset\\\\img-3.jpg': True,\n",
       " 'Raw_Dataset\\\\img-4.jpg': True,\n",
       " 'Raw_Dataset\\\\img-5.jpg': True,\n",
       " 'Raw_Dataset\\\\img-6.jpg': True,\n",
       " 'Raw_Dataset\\\\img-7.jpg': False,\n",
       " 'Raw_Dataset\\\\img-8.jpg': True,\n",
       " 'Raw_Dataset\\\\img-9.jpg': True}"
      ]
     },
     "execution_count": 13,
     "metadata": {},
     "output_type": "execute_result"
    }
   ],
   "source": [
    "checked_dict"
   ]
  },
  {
   "cell_type": "markdown",
   "metadata": {},
   "source": [
    "We can see that all the checkboxes other than 7 are checked!"
   ]
  },
  {
   "cell_type": "markdown",
   "metadata": {},
   "source": [
    "Here are all the checkboxes."
   ]
  },
  {
   "cell_type": "code",
   "execution_count": 14,
   "metadata": {},
   "outputs": [
    {
     "data": {
      "image/png": "[encoded data removed]",
      "text/plain": [
       "<Figure size 1080x1080 with 9 Axes>"
      ]
     },
     "metadata": {},
     "output_type": "display_data"
    }
   ],
   "source": [
    "cleaned_imgs = os.listdir(os.path.join(images_dir, \"cropped\"))\n",
    "cleaned_imgs = [os.path.join(images_dir, \"cropped\", i) for i in cleaned_imgs if i.endswith(\".jpg\")]\n",
    "plt.figure(figsize=(15, 15))\n",
    "plt.suptitle(\"Detected Checkboxes\", fontsize=16)\n",
    "for i, img in enumerate(cleaned_imgs):\n",
    "    plt.subplot(3, 3, i + 1)\n",
    "    plt.imshow(cv.imread(img))\n",
    "    plt.title(f\"{img}\")\n",
    "    plt.axis(\"off\")\n",
    "plt.show()"
   ]
  }
 ],
 "metadata": {
  "interpreter": {
   "hash": "21040c1b576dca9f4f330277849b9f4819256d524dee23c2b89e431027dafe11"
  },
  "kernelspec": {
   "display_name": "Python 3.8.5",
   "language": "python",
   "name": "python3"
  },
  "language_info": {
   "codemirror_mode": {
    "name": "ipython",
    "version": 3
   },
   "file_extension": ".py",
   "mimetype": "text/x-python",
   "name": "python",
   "nbconvert_exporter": "python",
   "pygments_lexer": "ipython3",
   "version": "3.8.5"
  },
  "orig_nbformat": 4
 },
 "nbformat": 4,
 "nbformat_minor": 2
}
